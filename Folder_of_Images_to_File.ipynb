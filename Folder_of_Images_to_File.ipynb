{
  "nbformat": 4,
  "nbformat_minor": 0,
  "metadata": {
    "colab": {
      "provenance": [],
      "collapsed_sections": []
    },
    "kernelspec": {
      "name": "python3",
      "display_name": "Python 3"
    },
    "language_info": {
      "name": "python"
    }
  },
  "cells": [
    {
      "cell_type": "markdown",
      "source": [
        "# Cell to create sample k images"
      ],
      "metadata": {
        "id": "D-MMNMRz4EwP"
      }
    },
    {
      "cell_type": "code",
      "execution_count": 5,
      "metadata": {
        "id": "C5XSufw5yx5a"
      },
      "outputs": [],
      "source": [
        "import cv2\n",
        "import os\n",
        "import numpy as np\n",
        "\n",
        "k = 5 # Number of sample images -\n",
        "\n",
        "fpath = \"images\"\n",
        "if not os.path.exists(fpath):\n",
        "  os.mkdir(fpath)\n",
        "\n",
        "for i in range(k):\n",
        "  im = np.zeros((200,200))\n",
        "  cv2.imwrite(fpath+\"/image_\"+str(i)+\".jpg\", im)"
      ]
    },
    {
      "cell_type": "markdown",
      "source": [
        "# Write the image path to a .txt file"
      ],
      "metadata": {
        "id": "z7YWmXdq5dD_"
      }
    },
    {
      "cell_type": "code",
      "source": [
        "import os\n",
        "\n",
        "img_list = os.listdir(fpath) # Provide your folder name that contains images\n",
        "\n",
        "#open text file\n",
        "text_file = open(fpath+\".txt\", \"w\")\n",
        "\n",
        "for f in img_list:\n",
        "  if f.endswith(\".jpg\"):\n",
        "    #write string to file\n",
        "    text_file.write(os.path.abspath(f)+\"\\n\")   #Path of each image in each line of .txt file\n",
        "\n",
        "#close file\n",
        "text_file.close()"
      ],
      "metadata": {
        "id": "oLZx5VvM1Fd-"
      },
      "execution_count": 16,
      "outputs": []
    },
    {
      "cell_type": "markdown",
      "source": [
        "# Read image paths and print"
      ],
      "metadata": {
        "id": "7o2QK84I5jWS"
      }
    },
    {
      "cell_type": "code",
      "source": [
        "with open(fpath+\".txt\", 'r') as file:  # Read the .txt file\n",
        "  data = file.read()\n",
        "  print(data)   # Check the file contents"
      ],
      "metadata": {
        "colab": {
          "base_uri": "https://localhost:8080/"
        },
        "id": "Lq5-o-0_2OSg",
        "outputId": "99c27255-c6c9-4a47-de78-9ae69a9decf2"
      },
      "execution_count": 17,
      "outputs": [
        {
          "output_type": "stream",
          "name": "stdout",
          "text": [
            "/content/image_0.jpg\n",
            "/content/image_2.jpg\n",
            "/content/image_1.jpg\n",
            "/content/image_3.jpg\n",
            "/content/image_4.jpg\n",
            "\n"
          ]
        }
      ]
    },
    {
      "cell_type": "code",
      "source": [
        "import csv\n",
        "import os\n",
        "\n",
        "img_list = os.listdir(fpath) # Provide your folder name that contains images\n",
        "\n",
        "#open text file\n",
        "csv_file = open(fpath+\".csv\", \"w\")\n",
        "\n",
        "# assign header columns\n",
        "header_List = ['Header Name']\n",
        "dw = csv.DictWriter(csv_file, delimiter=',', fieldnames=header_List)\n",
        "dw.writeheader()\n",
        "\n",
        "\n",
        "for f in img_list:\n",
        "  if f.endswith(\".jpg\"):\n",
        "    #write string to file\n",
        "    csv_file.write(os.path.abspath(f)+\"\\n\")   #Path of each image in each line of .txt file\n",
        "\n",
        "#close file\n",
        "csv_file.close()"
      ],
      "metadata": {
        "id": "9Vv9yKW37Lv5"
      },
      "execution_count": 31,
      "outputs": []
    },
    {
      "cell_type": "code",
      "source": [
        "# importing python package\n",
        "import pandas as pd\n",
        "  \n",
        "# display modified csv file\n",
        "file2 = pd.read_csv(fpath+\".csv\")\n",
        "print(file2)"
      ],
      "metadata": {
        "colab": {
          "base_uri": "https://localhost:8080/"
        },
        "id": "xlgrWTlf9aCA",
        "outputId": "62e20c48-a87d-40e7-9a43-022ba96cc062"
      },
      "execution_count": 32,
      "outputs": [
        {
          "output_type": "stream",
          "name": "stdout",
          "text": [
            "            Header Name\n",
            "0  /content/image_0.jpg\n",
            "1  /content/image_2.jpg\n",
            "2  /content/image_1.jpg\n",
            "3  /content/image_3.jpg\n",
            "4  /content/image_4.jpg\n"
          ]
        }
      ]
    }
  ]
}